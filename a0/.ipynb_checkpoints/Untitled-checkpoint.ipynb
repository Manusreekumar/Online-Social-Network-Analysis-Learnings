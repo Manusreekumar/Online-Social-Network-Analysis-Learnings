{
 "cells": [
  {
   "cell_type": "code",
   "execution_count": 1,
   "metadata": {
    "collapsed": true
   },
   "outputs": [],
   "source": [
    "# Imports you'll need.\n",
    "from collections import Counter\n",
    "import matplotlib.pyplot as plt\n",
    "import networkx as nx\n",
    "import sys\n",
    "import time\n",
    "from TwitterAPI import TwitterAPI\n",
    "\n",
    "consumer_key = 'ioYDVO50UbO8MlKDCvuM6XddL'\n",
    "consumer_secret = 'jnmGKAj9qRVHBnCHimC1ejl47mruCRN6eOxJfj5dzwuOCSu7Y3'\n",
    "access_token = '349732919-9LhSxzBoPnadiRhvBLtuYywUEcRABwvjGOaFz9GM'\n",
    "access_token_secret = '1WkHiMyQRAsjgrxJtTQ6TipGQdNrD9HWNyffFU4m6zH9v'\n",
    "\n",
    "\n",
    "# This method is done for you.\n",
    "def get_twitter():\n",
    "    \"\"\" Construct an instance of TwitterAPI using the tokens you entered above.\n",
    "    Returns:\n",
    "      An instance of TwitterAPI.\n",
    "    \"\"\"\n",
    "    return TwitterAPI(consumer_key, consumer_secret, access_token, access_token_secret)\n",
    "\n"
   ]
  },
  {
   "cell_type": "code",
   "execution_count": null,
   "metadata": {
    "collapsed": true
   },
   "outputs": [],
   "source": []
  }
 ],
 "metadata": {
  "kernelspec": {
   "display_name": "Python 3",
   "language": "python",
   "name": "python3"
  },
  "language_info": {
   "codemirror_mode": {
    "name": "ipython",
    "version": 3
   },
   "file_extension": ".py",
   "mimetype": "text/x-python",
   "name": "python",
   "nbconvert_exporter": "python",
   "pygments_lexer": "ipython3",
   "version": "3.6.3"
  }
 },
 "nbformat": 4,
 "nbformat_minor": 2
}
