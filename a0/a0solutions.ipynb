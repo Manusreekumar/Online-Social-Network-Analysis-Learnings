{
 "cells": [
  {
   "cell_type": "code",
   "execution_count": 1,
   "metadata": {
    "collapsed": true
   },
   "outputs": [],
   "source": [
    "# Imports you'll need.\n",
    "from collections import Counter\n",
    "import matplotlib.pyplot as plt\n",
    "import networkx as nx\n",
    "import sys\n",
    "import time\n",
    "from TwitterAPI import TwitterAPI\n",
    "\n",
    "consumer_key = 'ioYDVO50UbO8MlKDCvuM6XddL'\n",
    "consumer_secret = 'jnmGKAj9qRVHBnCHimC1ejl47mruCRN6eOxJfj5dzwuOCSu7Y3'\n",
    "access_token = '349732919-9LhSxzBoPnadiRhvBLtuYywUEcRABwvjGOaFz9GM'\n",
    "access_token_secret = '1WkHiMyQRAsjgrxJtTQ6TipGQdNrD9HWNyffFU4m6zH9v'\n",
    "\n",
    "\n",
    "# This method is done for you.\n",
    "def get_twitter():\n",
    "    \"\"\" Construct an instance of TwitterAPI using the tokens you entered above.\n",
    "    Returns:\n",
    "      An instance of TwitterAPI.\n",
    "    \"\"\"\n",
    "    return TwitterAPI(consumer_key, consumer_secret, access_token, access_token_secret)\n",
    "\n"
   ]
  },
  {
   "cell_type": "code",
   "execution_count": 2,
   "metadata": {
    "collapsed": true
   },
   "outputs": [],
   "source": [
    "def read_screen_names(filename):\n",
    "    \"\"\"\n",
    "    Read a text file containing Twitter screen_names, one per line.\n",
    "\n",
    "    Params:\n",
    "        filename....Name of the file to read.\n",
    "    Returns:\n",
    "        A list of strings, one per screen_name, in the order they are listed\n",
    "        in the file.\n",
    "\n",
    "    Here's a doctest to confirm your implementation is correct.\n",
    "    >>> read_screen_names('candidates.txt')\n",
    "    ['DrJillStein', 'GovGaryJohnson', 'HillaryClinton', 'realDonaldTrump']\n",
    "    \"\"\"\n",
    "    ###TODO\n",
    "    screennames = []\n",
    "    candidates = open(filename, \"r\")\n",
    "    for x in candidates.readlines() :\n",
    "        screennames.append(x.strip())\n",
    "    return screennames\n",
    "    "
   ]
  },
  {
   "cell_type": "code",
   "execution_count": 3,
   "metadata": {},
   "outputs": [
    {
     "data": {
      "text/plain": [
       "['DrJillStein', 'GovGaryJohnson', 'HillaryClinton', 'realDonaldTrump']"
      ]
     },
     "execution_count": 3,
     "metadata": {},
     "output_type": "execute_result"
    }
   ],
   "source": [
    "read_screen_names('candidates.txt')"
   ]
  },
  {
   "cell_type": "code",
   "execution_count": 4,
   "metadata": {
    "collapsed": true
   },
   "outputs": [],
   "source": [
    "def robust_request(twitter, resource, params, max_tries=5):\n",
    "    \"\"\" If a Twitter request fails, sleep for 15 minutes.\n",
    "    Do this at most max_tries times before quitting.\n",
    "    Args:\n",
    "      twitter .... A TwitterAPI object.\n",
    "      resource ... A resource string to request; e.g., \"friends/ids\"\n",
    "      params ..... A parameter dict for the request, e.g., to specify\n",
    "                   parameters like screen_name or count.\n",
    "      max_tries .. The maximum number of tries to attempt.\n",
    "    Returns:\n",
    "      A TwitterResponse object, or None if failed.\n",
    "    \"\"\"\n",
    "    for i in range(max_tries):\n",
    "        request = twitter.request(resource, params)\n",
    "        if request.status_code == 200:\n",
    "            return request\n",
    "        else:\n",
    "            print('Got error %s \\nsleeping for 15 minutes.' % request.text)\n",
    "            sys.stderr.flush()\n",
    "            time.sleep(61 * 15)"
   ]
  },
  {
   "cell_type": "code",
   "execution_count": 5,
   "metadata": {
    "collapsed": true
   },
   "outputs": [],
   "source": [
    "def get_users(twitter, screen_names):\n",
    "    \"\"\"Retrieve the Twitter user objects for each screen_name.\n",
    "    Params:\n",
    "        twitter........The TwitterAPI object.\n",
    "        screen_names...A list of strings, one per screen_name\n",
    "    Returns:\n",
    "        A list of dicts, one per user, containing all the user information\n",
    "        (e.g., screen_name, id, location, etc)\n",
    "\n",
    "    See the API documentation here: https://dev.twitter.com/rest/reference/get/users/lookup\n",
    "\n",
    "    In this example, I test retrieving two users: twitterapi and twitter.\n",
    "\n",
    "    >>> twitter = get_twitter()\n",
    "    >>> users = get_users(twitter, ['twitterapi', 'twitter'])\n",
    "    >>> [u['id'] for u in users]\n",
    "    [6253282, 783214]\n",
    "    \"\"\"\n",
    "    ###TODO\n",
    "    \n",
    "    request = twitter.request('users/lookup', {'screen_name': screen_names}) \n",
    "    return request"
   ]
  },
  {
   "cell_type": "code",
   "execution_count": 6,
   "metadata": {},
   "outputs": [
    {
     "data": {
      "text/plain": [
       "[111216929, 95713333, 1339835893, 25073877]"
      ]
     },
     "execution_count": 6,
     "metadata": {},
     "output_type": "execute_result"
    }
   ],
   "source": [
    "twitter = get_twitter()\n",
    "users = get_users(twitter,read_screen_names('candidates.txt') )\n",
    "[u['id'] for u in users]"
   ]
  },
  {
   "cell_type": "code",
   "execution_count": 7,
   "metadata": {
    "collapsed": true
   },
   "outputs": [],
   "source": [
    "\n",
    "def get_friends(twitter, screen_name):\n",
    "    \"\"\" Return a list of Twitter IDs for users that this person follows, up to 5000.\n",
    "    See https://dev.twitter.com/rest/reference/get/friends/ids\n",
    "\n",
    "    Note, because of rate limits, it's best to test this method for one candidate before trying\n",
    "    on all candidates.\n",
    "\n",
    "    Args:\n",
    "        twitter.......The TwitterAPI object\n",
    "        screen_name... a string of a Twitter screen name\n",
    "    Returns:\n",
    "        A list of ints, one per friend ID, sorted in ascending order.\n",
    "\n",
    "    Note: If a user follows more than 5000 accounts, we will limit ourselves to\n",
    "    the first 5000 accounts returned.\n",
    "\n",
    "    In this test case, I return the first 5 accounts that I follow.\n",
    "    >>> twitter = get_twitter()\n",
    "    >>> get_friends(twitter, 'aronwc')[:5]\n",
    "    [695023, 1697081, 8381682, 10204352, 11669522]\n",
    "    \"\"\"\n",
    "    ###TODO\n",
    "    \n",
    "    request = sorted(list(twitter.request('friends/ids', {'screen_name': screen_name})))\n",
    "    return request\n"
   ]
  },
  {
   "cell_type": "code",
   "execution_count": 8,
   "metadata": {},
   "outputs": [
    {
     "data": {
      "text/plain": [
       "[695023, 1697081, 8381682, 10204352, 11669522]"
      ]
     },
     "execution_count": 8,
     "metadata": {},
     "output_type": "execute_result"
    }
   ],
   "source": [
    "twitter = get_twitter()\n",
    "get_friends(twitter, 'aronwc')[:5]"
   ]
  },
  {
   "cell_type": "code",
   "execution_count": 9,
   "metadata": {},
   "outputs": [
    {
     "data": {
      "text/plain": [
       "[36403,\n",
       " 939091,\n",
       " 1049171,\n",
       " 2219131,\n",
       " 3004231,\n",
       " 3488471,\n",
       " 5868202,\n",
       " 5994222,\n",
       " 6751172,\n",
       " 8370082,\n",
       " 11378462,\n",
       " 11395432,\n",
       " 12193642,\n",
       " 12434632,\n",
       " 12886082,\n",
       " 12897402,\n",
       " 13790282,\n",
       " 14125897,\n",
       " 14144868,\n",
       " 14166096,\n",
       " 14185317,\n",
       " 14222536,\n",
       " 14240875,\n",
       " 14293025,\n",
       " 14526877,\n",
       " 14695985,\n",
       " 14868699,\n",
       " 14997156,\n",
       " 15079003,\n",
       " 15140227,\n",
       " 15141153,\n",
       " 15183303,\n",
       " 15412073,\n",
       " 15429685,\n",
       " 15648633,\n",
       " 15726077,\n",
       " 15727697,\n",
       " 15813069,\n",
       " 15846407,\n",
       " 15886631,\n",
       " 15972271,\n",
       " 16132612,\n",
       " 16223927,\n",
       " 16342918,\n",
       " 16392181,\n",
       " 16470020,\n",
       " 16473427,\n",
       " 16488269,\n",
       " 16490974,\n",
       " 16528755,\n",
       " 16642424,\n",
       " 16926933,\n",
       " 17011177,\n",
       " 17022638,\n",
       " 17159397,\n",
       " 17211727,\n",
       " 17237178,\n",
       " 17350250,\n",
       " 17442048,\n",
       " 17565514,\n",
       " 17576745,\n",
       " 17890304,\n",
       " 17890757,\n",
       " 18018946,\n",
       " 18123264,\n",
       " 18220818,\n",
       " 18382184,\n",
       " 18408823,\n",
       " 18542401,\n",
       " 18564248,\n",
       " 18602100,\n",
       " 18622869,\n",
       " 18730233,\n",
       " 18766459,\n",
       " 18881700,\n",
       " 18893580,\n",
       " 19185005,\n",
       " 19248106,\n",
       " 19397785,\n",
       " 19506790,\n",
       " 19608297,\n",
       " 19682187,\n",
       " 19915898,\n",
       " 20113797,\n",
       " 20188834,\n",
       " 20196258,\n",
       " 20265395,\n",
       " 20332563,\n",
       " 20371543,\n",
       " 20517132,\n",
       " 20618180,\n",
       " 21111883,\n",
       " 21141310,\n",
       " 21154238,\n",
       " 21337440,\n",
       " 21371341,\n",
       " 21447363,\n",
       " 21495530,\n",
       " 21705181,\n",
       " 21705780,\n",
       " 21728303,\n",
       " 21867341,\n",
       " 21879831,\n",
       " 22086608,\n",
       " 22103425,\n",
       " 22162854,\n",
       " 22339420,\n",
       " 22386817,\n",
       " 22454663,\n",
       " 22563769,\n",
       " 22635509,\n",
       " 22812754,\n",
       " 23005470,\n",
       " 23220034,\n",
       " 23394667,\n",
       " 23449384,\n",
       " 23613479,\n",
       " 23636341,\n",
       " 24232525,\n",
       " 24289404,\n",
       " 24479007,\n",
       " 24613245,\n",
       " 25060780,\n",
       " 25238413,\n",
       " 25280477,\n",
       " 25365536,\n",
       " 25377285,\n",
       " 26186655,\n",
       " 26589987,\n",
       " 26919151,\n",
       " 27131700,\n",
       " 27279989,\n",
       " 27297599,\n",
       " 27589941,\n",
       " 27723907,\n",
       " 27978179,\n",
       " 28185163,\n",
       " 28556611,\n",
       " 28783054,\n",
       " 28878752,\n",
       " 28957910,\n",
       " 29007043,\n",
       " 29392409,\n",
       " 29450962,\n",
       " 29878862,\n",
       " 29884669,\n",
       " 30274144,\n",
       " 30313925,\n",
       " 30354991,\n",
       " 30556239,\n",
       " 31077933,\n",
       " 31080039,\n",
       " 31239408,\n",
       " 31393043,\n",
       " 32332667,\n",
       " 32439981,\n",
       " 32496437,\n",
       " 32785310,\n",
       " 32985158,\n",
       " 33435693,\n",
       " 33500279,\n",
       " 33992481,\n",
       " 34656830,\n",
       " 34782406,\n",
       " 34879697,\n",
       " 35081434,\n",
       " 35391464,\n",
       " 35535716,\n",
       " 35743863,\n",
       " 35885940,\n",
       " 37041779,\n",
       " 37345348,\n",
       " 37680340,\n",
       " 38697239,\n",
       " 38754192,\n",
       " 38989873,\n",
       " 39088067,\n",
       " 39611720,\n",
       " 39845278,\n",
       " 40255499,\n",
       " 40684090,\n",
       " 41021335,\n",
       " 41637489,\n",
       " 41980825,\n",
       " 41988894,\n",
       " 42889581,\n",
       " 42995067,\n",
       " 43433353,\n",
       " 43703569,\n",
       " 44177383,\n",
       " 44207541,\n",
       " 44215023,\n",
       " 44381332,\n",
       " 44704137,\n",
       " 44922909,\n",
       " 45635646,\n",
       " 45671898,\n",
       " 45876958,\n",
       " 45991436,\n",
       " 46213956,\n",
       " 46711811,\n",
       " 47462001,\n",
       " 48071635,\n",
       " 48269483,\n",
       " 48807945,\n",
       " 48877038,\n",
       " 49247796,\n",
       " 49482671,\n",
       " 49660211,\n",
       " 50374439,\n",
       " 50396544,\n",
       " 51104561,\n",
       " 52303634,\n",
       " 52455088,\n",
       " 53601471,\n",
       " 55117855,\n",
       " 55749675,\n",
       " 56838529,\n",
       " 58143375,\n",
       " 58691737,\n",
       " 59043857,\n",
       " 59225745,\n",
       " 59226213,\n",
       " 59238835,\n",
       " 61409422,\n",
       " 61585965,\n",
       " 61592079,\n",
       " 61863728,\n",
       " 62513246,\n",
       " 62562154,\n",
       " 63076673,\n",
       " 63112528,\n",
       " 63881981,\n",
       " 65210574,\n",
       " 65412757,\n",
       " 65707359,\n",
       " 67918705,\n",
       " 68185371,\n",
       " 68999404,\n",
       " 70144495,\n",
       " 70707457,\n",
       " 71061209,\n",
       " 71435985,\n",
       " 71569841,\n",
       " 72198806,\n",
       " 72719624,\n",
       " 72944396,\n",
       " 73273614,\n",
       " 73716850,\n",
       " 75069067,\n",
       " 75187482,\n",
       " 76421362,\n",
       " 78394920,\n",
       " 78776348,\n",
       " 78924349,\n",
       " 80279893,\n",
       " 80312497,\n",
       " 80619457,\n",
       " 81480697,\n",
       " 82016286,\n",
       " 83668232,\n",
       " 83903186,\n",
       " 84126644,\n",
       " 87250241,\n",
       " 89992368,\n",
       " 90021519,\n",
       " 91150764,\n",
       " 91365724,\n",
       " 96685533,\n",
       " 98932861,\n",
       " 99545933,\n",
       " 99886248,\n",
       " 101239501,\n",
       " 101613166,\n",
       " 103018203,\n",
       " 103769342,\n",
       " 103969906,\n",
       " 105961394,\n",
       " 107290835,\n",
       " 107820427,\n",
       " 109025212,\n",
       " 109691922,\n",
       " 109974187,\n",
       " 110827653,\n",
       " 112818592,\n",
       " 113298560,\n",
       " 113439399,\n",
       " 115740215,\n",
       " 116621693,\n",
       " 117873563,\n",
       " 118443032,\n",
       " 118836372,\n",
       " 119166916,\n",
       " 120153772,\n",
       " 120172698,\n",
       " 120567763,\n",
       " 121613132,\n",
       " 122807606,\n",
       " 123276752,\n",
       " 124763921,\n",
       " 125083946,\n",
       " 126073393,\n",
       " 126198709,\n",
       " 127163699,\n",
       " 128790234,\n",
       " 130288787,\n",
       " 130894721,\n",
       " 132278386,\n",
       " 132646852,\n",
       " 133448051,\n",
       " 139939973,\n",
       " 142335727,\n",
       " 142419647,\n",
       " 143192279,\n",
       " 144962445,\n",
       " 147324862,\n",
       " 149972205,\n",
       " 150885854,\n",
       " 151694910,\n",
       " 154221292,\n",
       " 155565346,\n",
       " 158132662,\n",
       " 158609072,\n",
       " 161047755,\n",
       " 161527155,\n",
       " 163724029,\n",
       " 166655653,\n",
       " 172858784,\n",
       " 174111162,\n",
       " 174476751,\n",
       " 175939051,\n",
       " 180949358,\n",
       " 183753455,\n",
       " 184993975,\n",
       " 185406065,\n",
       " 186374857,\n",
       " 190787830,\n",
       " 191394755,\n",
       " 191504048,\n",
       " 192028431,\n",
       " 193158003,\n",
       " 195829353,\n",
       " 196536113,\n",
       " 201077617,\n",
       " 201866925,\n",
       " 202790178,\n",
       " 203375270,\n",
       " 204118881,\n",
       " 205302299,\n",
       " 210833051,\n",
       " 213478296,\n",
       " 216776631,\n",
       " 221148689,\n",
       " 221228044,\n",
       " 221298491,\n",
       " 221879626,\n",
       " 222635055,\n",
       " 227139868,\n",
       " 228079332,\n",
       " 229219088,\n",
       " 229769022,\n",
       " 230823288,\n",
       " 230838202,\n",
       " 230891509,\n",
       " 231510077,\n",
       " 232515615,\n",
       " 234042876,\n",
       " 236485849,\n",
       " 240081945,\n",
       " 240558399,\n",
       " 243354224,\n",
       " 244051583,\n",
       " 244817600,\n",
       " 248900032,\n",
       " 249854076,\n",
       " 251094851,\n",
       " 251109211,\n",
       " 252179319,\n",
       " 252701314,\n",
       " 254274083,\n",
       " 256349962,\n",
       " 256881576,\n",
       " 258527102,\n",
       " 258878221,\n",
       " 261980232,\n",
       " 263879706,\n",
       " 270717589,\n",
       " 271026442,\n",
       " 272191896,\n",
       " 272710611,\n",
       " 274120509,\n",
       " 274265902,\n",
       " 275407577,\n",
       " 277719684,\n",
       " 278670357,\n",
       " 280292588,\n",
       " 281138384,\n",
       " 281745953,\n",
       " 283499967,\n",
       " 286314825,\n",
       " 286470933,\n",
       " 286871259,\n",
       " 288012085,\n",
       " 289410032,\n",
       " 291231013,\n",
       " 293311838,\n",
       " 302083418,\n",
       " 303367151,\n",
       " 304073811,\n",
       " 304572875,\n",
       " 304696956,\n",
       " 308260404,\n",
       " 309437677,\n",
       " 313464839,\n",
       " 314866815,\n",
       " 315657427,\n",
       " 316232173,\n",
       " 316298587,\n",
       " 321748989,\n",
       " 322278265,\n",
       " 322452775,\n",
       " 323536807,\n",
       " 325162736,\n",
       " 325560150,\n",
       " 325830217,\n",
       " 325886383,\n",
       " 329525509,\n",
       " 330130333,\n",
       " 336124836,\n",
       " 336851461,\n",
       " 341929740,\n",
       " 342490475,\n",
       " 344216518,\n",
       " 352031463,\n",
       " 352412019,\n",
       " 352548417,\n",
       " 353407719,\n",
       " 354567764,\n",
       " 354957876,\n",
       " 355865104,\n",
       " 355906128,\n",
       " 356530433,\n",
       " 357606935,\n",
       " 361460084,\n",
       " 361569788,\n",
       " 364462569,\n",
       " 364997022,\n",
       " 365822838,\n",
       " 367281116,\n",
       " 367863163,\n",
       " 369125724,\n",
       " 371047430,\n",
       " 376925177,\n",
       " 377350150,\n",
       " 379754341,\n",
       " 381152398,\n",
       " 381177988,\n",
       " 387909558,\n",
       " 390530361,\n",
       " 395296194,\n",
       " 397655438,\n",
       " 401771836,\n",
       " 402475977,\n",
       " 403004765,\n",
       " 414257018,\n",
       " 414403516,\n",
       " 415332071,\n",
       " 415823582,\n",
       " 418991973,\n",
       " 422665701,\n",
       " 423135707,\n",
       " 423823660,\n",
       " 427654338,\n",
       " 430995737,\n",
       " 432676344,\n",
       " 436645229,\n",
       " 446288197,\n",
       " 448142012,\n",
       " 450205869,\n",
       " 455927413,\n",
       " 457115225,\n",
       " 458879695,\n",
       " 460523575,\n",
       " 460684334,\n",
       " 467788375,\n",
       " 476315898,\n",
       " 487532087,\n",
       " 489875054,\n",
       " 491035621,\n",
       " 493752861,\n",
       " 497239737,\n",
       " 499336680,\n",
       " 499747808,\n",
       " 500073781,\n",
       " 500436115,\n",
       " 501224824,\n",
       " 505404746,\n",
       " 507354071,\n",
       " 518976012,\n",
       " 531561605,\n",
       " 531864926,\n",
       " 532531457,\n",
       " 535932676,\n",
       " 537441013,\n",
       " 545299216,\n",
       " 547560253,\n",
       " 548768601,\n",
       " 550335338,\n",
       " 553883065,\n",
       " 565469671,\n",
       " 567193168,\n",
       " 571202103,\n",
       " 574239384,\n",
       " 574799823,\n",
       " 579932905,\n",
       " 582037089,\n",
       " 587536673,\n",
       " 592312296,\n",
       " 605939552,\n",
       " 606726493,\n",
       " 614730516,\n",
       " 623404703,\n",
       " 628015256,\n",
       " 630297662,\n",
       " 633969866,\n",
       " 712948758,\n",
       " 720834852,\n",
       " 728725874,\n",
       " 737196836,\n",
       " 757303975,\n",
       " 780692798,\n",
       " 784965392,\n",
       " 802430450,\n",
       " 809887021,\n",
       " 815537202,\n",
       " 823738296,\n",
       " 833849810,\n",
       " 834182083,\n",
       " 838627057,\n",
       " 842475074,\n",
       " 871991101,\n",
       " 875308884,\n",
       " 884650152,\n",
       " 886765376,\n",
       " 1033943323,\n",
       " 1071777608,\n",
       " 1077365580,\n",
       " 1084972932,\n",
       " 1093090866,\n",
       " 1111940934,\n",
       " 1128218821,\n",
       " 1161879818,\n",
       " 1249944678,\n",
       " 1250049600,\n",
       " 1284589022,\n",
       " 1287341107,\n",
       " 1323663067,\n",
       " 1325538445,\n",
       " 1330457336,\n",
       " 1341027798,\n",
       " 1352692796,\n",
       " 1375306027,\n",
       " 1397144792,\n",
       " 1438240801,\n",
       " 1442844120,\n",
       " 1473779814,\n",
       " 1479840834,\n",
       " 1498757215,\n",
       " 1536791610,\n",
       " 1590024792,\n",
       " 1614054846,\n",
       " 1631314297,\n",
       " 1656913327,\n",
       " 1661558030,\n",
       " 1687489560,\n",
       " 1707321486,\n",
       " 1713498398,\n",
       " 1923862850,\n",
       " 1931494634,\n",
       " 1938814952,\n",
       " 1950471799,\n",
       " 1953051661,\n",
       " 2154808945,\n",
       " 2178981480,\n",
       " 2192336096,\n",
       " 2214984592,\n",
       " 2229127111,\n",
       " 2245369181,\n",
       " 2299802396,\n",
       " 2310999614,\n",
       " 2314055840,\n",
       " 2332617303,\n",
       " 2377247539,\n",
       " 2383307029,\n",
       " 2413504506,\n",
       " 2427885031,\n",
       " 2434294310,\n",
       " 2439027667,\n",
       " 2544242706,\n",
       " 2573501064,\n",
       " 2575826929,\n",
       " 2590811666,\n",
       " 2591675300,\n",
       " 2596443133,\n",
       " 2613691501,\n",
       " 2613757872,\n",
       " 2618486504,\n",
       " 2688443245,\n",
       " 2693519792,\n",
       " 2701772633,\n",
       " 2750320126,\n",
       " 2750984392,\n",
       " 2786808817,\n",
       " 2788630765,\n",
       " 2802124516,\n",
       " 2811455407,\n",
       " 2816497919,\n",
       " 2816583227,\n",
       " 2841747221,\n",
       " 2883493008,\n",
       " 2926250790,\n",
       " 3002092738,\n",
       " 3031619171,\n",
       " 3044709753,\n",
       " 3044710461,\n",
       " 3044746419,\n",
       " 3044781131,\n",
       " 3047899581,\n",
       " 3047938510,\n",
       " 3048168670,\n",
       " 3051544224,\n",
       " 3051611125,\n",
       " 3052911538,\n",
       " 3056057967,\n",
       " 3056090573,\n",
       " 3056105255,\n",
       " 3056142064,\n",
       " 3057542915,\n",
       " 3057577828,\n",
       " 3058863113,\n",
       " 3058865345,\n",
       " 3059045779,\n",
       " 3060143603,\n",
       " 3060191026,\n",
       " 3061615740,\n",
       " 3061981559,\n",
       " 3062027302,\n",
       " 3062962055,\n",
       " 3064597541,\n",
       " 3065862285,\n",
       " 3065900255,\n",
       " 3065966919,\n",
       " 3065967867,\n",
       " 3065982773,\n",
       " 3068729259,\n",
       " 3068783345,\n",
       " 3068811118,\n",
       " 3068825260,\n",
       " 3071251042,\n",
       " 3073392597,\n",
       " 3073477156,\n",
       " 3078554829,\n",
       " 3081659314,\n",
       " 3085169824,\n",
       " 3086798481,\n",
       " 3086875936,\n",
       " 3088855679,\n",
       " 3089024884,\n",
       " 3105188490,\n",
       " 3105794610,\n",
       " 3108391171,\n",
       " 3121948508,\n",
       " 3151772047,\n",
       " 3153048404,\n",
       " 3153892631,\n",
       " 3160064413,\n",
       " 3161773730,\n",
       " 3165917534,\n",
       " 3169051682,\n",
       " 3171896913,\n",
       " 3185849151,\n",
       " 3190271899,\n",
       " 3193330462,\n",
       " 3202832566,\n",
       " 3207624605,\n",
       " 3217694460,\n",
       " 3225924410,\n",
       " 3232054991,\n",
       " 3234577301,\n",
       " 3241635853,\n",
       " 3241763179,\n",
       " 3245135844,\n",
       " 3247117472,\n",
       " 3251305226,\n",
       " 3253031162,\n",
       " 3254901091,\n",
       " 3269091415,\n",
       " 3280722818,\n",
       " 3300072035,\n",
       " 3300827385,\n",
       " 3303293865,\n",
       " 3307397791,\n",
       " 3313706340,\n",
       " 3317590708,\n",
       " 3318948132,\n",
       " 3332045051,\n",
       " 3342213587,\n",
       " 3342916073,\n",
       " 3343155916,\n",
       " 3344540464,\n",
       " 3344711285,\n",
       " 3353604197,\n",
       " 3398804409,\n",
       " 3398864554,\n",
       " 3405913271,\n",
       " 3406193625,\n",
       " 3407260034,\n",
       " 3425926371,\n",
       " 3458520142,\n",
       " 3536500937,\n",
       " 3635250435,\n",
       " 3681348617,\n",
       " 3751274367,\n",
       " 3752166915,\n",
       " 3805725681,\n",
       " 3874159216,\n",
       " 3893961909,\n",
       " 3910931584,\n",
       " 3955496008,\n",
       " 3960279315,\n",
       " 3986438840,\n",
       " 4013838856,\n",
       " 4061885906,\n",
       " 4122777688,\n",
       " 4152066639,\n",
       " 4171483153,\n",
       " 4187346312,\n",
       " 4211625232,\n",
       " 4230149657,\n",
       " 4311393022,\n",
       " 4418090668,\n",
       " 4554539292,\n",
       " 4732338444,\n",
       " 4736170399,\n",
       " 4861489005,\n",
       " 4884965834,\n",
       " 701854690401718272,\n",
       " 702147673651027968,\n",
       " 703806789876207616,\n",
       " 707627977102602240,\n",
       " 729761993461248000,\n",
       " 734080232580382721,\n",
       " 734502816111267840,\n",
       " 734768872625188864,\n",
       " 746432638701834240,\n",
       " 746719903210737664,\n",
       " 747148719225610240,\n",
       " 755024857373474816,\n",
       " 758346398156881920,\n",
       " 794286845316255745,\n",
       " 800704496246484992,\n",
       " 809420163711909888,\n",
       " 818876014390603776,\n",
       " 818910970567344128,\n",
       " 822215673812119553,\n",
       " 822215679726100480,\n",
       " 902243422848905222,\n",
       " 913945418005958656,\n",
       " 954381229901697026]"
      ]
     },
     "execution_count": 9,
     "metadata": {},
     "output_type": "execute_result"
    }
   ],
   "source": [
    "twitter = get_twitter()\n",
    "get_friends(twitter, 'HillaryClinton')"
   ]
  },
  {
   "cell_type": "code",
   "execution_count": 10,
   "metadata": {
    "collapsed": true
   },
   "outputs": [],
   "source": [
    "def add_all_friends(twitter, users):\n",
    "    \"\"\" Get the list of accounts each user follows.\n",
    "    I.e., call the get_friends method for all 4 candidates.\n",
    "\n",
    "    Store the result in each user's dict using a new key called 'friends'.\n",
    "\n",
    "    Args:\n",
    "        twitter...The TwitterAPI object.\n",
    "        users.....The list of user dicts.\n",
    "    Returns:\n",
    "        Nothing\n",
    "\n",
    "    >>> twitter = get_twitter()\n",
    "    >>> users = [{'screen_name': 'aronwc'}]\n",
    "    >>> add_all_friends(twitter, users)\n",
    "    >>> users[0]['friends'][:5]\n",
    "    [695023, 1697081, 8381682, 10204352, 11669522]\n",
    "    \"\"\"\n",
    "    ###TODO\n",
    "    \n",
    "    for x in users:\n",
    "        x['friends'] = get_friends(twitter, x['screen_name'])\n",
    "        \n"
   ]
  },
  {
   "cell_type": "code",
   "execution_count": 11,
   "metadata": {},
   "outputs": [
    {
     "data": {
      "text/plain": [
       "[695023, 1697081, 8381682, 10204352, 11669522]"
      ]
     },
     "execution_count": 11,
     "metadata": {},
     "output_type": "execute_result"
    }
   ],
   "source": [
    "users = [{'screen_name': 'aronwc'}]\n",
    "add_all_friends(twitter, users)\n",
    "users[0]['friends'][:5]"
   ]
  },
  {
   "cell_type": "code",
   "execution_count": 12,
   "metadata": {
    "collapsed": true
   },
   "outputs": [],
   "source": [
    "users = [{'screen_name': 'HillaryClinton'}, {'screen_name': 'GovGaryJohnson'}, {'screen_name': 'DrJillStein'}, {'screen_name': 'realDonaldTrump'} ]"
   ]
  },
  {
   "cell_type": "code",
   "execution_count": 13,
   "metadata": {},
   "outputs": [
    {
     "data": {
      "text/plain": [
       "[36403, 939091, 1049171, 2219131, 3004231]"
      ]
     },
     "execution_count": 13,
     "metadata": {},
     "output_type": "execute_result"
    }
   ],
   "source": [
    "add_all_friends(twitter, users)\n",
    "users[0]['friends'][:5]"
   ]
  },
  {
   "cell_type": "code",
   "execution_count": 21,
   "metadata": {},
   "outputs": [
    {
     "data": {
      "text/plain": [
       "[14669951, 14839147, 15513604, 16031927, 20733972]"
      ]
     },
     "execution_count": 21,
     "metadata": {},
     "output_type": "execute_result"
    }
   ],
   "source": [
    "users[3]['friends'][:5]"
   ]
  },
  {
   "cell_type": "code",
   "execution_count": 14,
   "metadata": {
    "collapsed": true
   },
   "outputs": [],
   "source": [
    "\n",
    "def print_num_friends(users):\n",
    "    \"\"\"Print the number of friends per candidate, sorted by candidate name.\n",
    "    See Log.txt for an example.\n",
    "    Args:\n",
    "        users....The list of user dicts.\n",
    "    Returns:\n",
    "        Nothing\n",
    "    \"\"\"\n",
    "    for x in users:\n",
    "        print(x['screen_name'] + \" \" + str(len(x['friends'])))"
   ]
  },
  {
   "cell_type": "code",
   "execution_count": 15,
   "metadata": {},
   "outputs": [
    {
     "name": "stdout",
     "output_type": "stream",
     "text": [
      "HillaryClinton 769\n",
      "GovGaryJohnson 3489\n",
      "DrJillStein 1650\n",
      "realDonaldTrump 45\n"
     ]
    }
   ],
   "source": [
    "print_num_friends(users)\n"
   ]
  },
  {
   "cell_type": "code",
   "execution_count": 16,
   "metadata": {
    "collapsed": true
   },
   "outputs": [],
   "source": [
    "def count_friends(users):\n",
    "    \"\"\" Count how often each friend is followed.\n",
    "    Args:\n",
    "        users: a list of user dicts\n",
    "    Returns:\n",
    "        a Counter object mapping each friend to the number of candidates who follow them.\n",
    "        Counter documentation: https://docs.python.org/dev/library/collections.html#collections.Counter\n",
    "\n",
    "    In this example, friend '2' is followed by three different users.\n",
    "    >>> c = count_friends([{'friends': [1,2]}, {'friends': [2,3]}, {'friends': [2,3]}])\n",
    "    >>> c.most_common()\n",
    "    [(2, 3), (3, 2), (1, 1)]\n",
    "    \"\"\"\n",
    "    ###TODO\n",
    "    tempdict = dict()\n",
    "    for x in users:\n",
    "        for y in x['friends']:\n",
    "            if y not in tempdict:\n",
    "                tempdict[y] = 1\n",
    "            else:\n",
    "                tempdict[y] += 1\n",
    "    return Counter(tempdict)"
   ]
  },
  {
   "cell_type": "code",
   "execution_count": 17,
   "metadata": {
    "scrolled": true
   },
   "outputs": [
    {
     "data": {
      "text/plain": [
       "[(2, 3), (3, 2), (1, 1)]"
      ]
     },
     "execution_count": 17,
     "metadata": {},
     "output_type": "execute_result"
    }
   ],
   "source": [
    "c = count_friends([{'friends': [1,2]}, {'friends': [2,3]}, {'friends': [2,3]}])\n",
    "c.most_common()"
   ]
  },
  {
   "cell_type": "code",
   "execution_count": 18,
   "metadata": {
    "scrolled": true
   },
   "outputs": [
    {
     "data": {
      "text/plain": [
       "[(18766459, 3),\n",
       " (19608297, 3),\n",
       " (822215673812119553, 3),\n",
       " (14185317, 2),\n",
       " (15846407, 2)]"
      ]
     },
     "execution_count": 18,
     "metadata": {},
     "output_type": "execute_result"
    }
   ],
   "source": [
    "c = count_friends(users)\n",
    "c.most_common()[:5]"
   ]
  },
  {
   "cell_type": "code",
   "execution_count": 19,
   "metadata": {
    "collapsed": true
   },
   "outputs": [],
   "source": [
    "def friend_overlap(users):\n",
    "    \"\"\"\n",
    "    Compute the number of shared accounts followed by each pair of users.\n",
    "\n",
    "    Args:\n",
    "        users...The list of user dicts.\n",
    "\n",
    "    Return: A list of tuples containing (user1, user2, N), where N is the\n",
    "        number of accounts that both user1 and user2 follow.  This list should\n",
    "        be sorted in descending order of N. Ties are broken first by user1's\n",
    "        screen_name, then by user2's screen_name (sorted in ascending\n",
    "        alphabetical order). See Python's builtin sorted method.\n",
    "\n",
    "    In this example, users 'a' and 'c' follow the same 3 accounts:\n",
    "    >>> friend_overlap([\n",
    "    ...     {'screen_name': 'a', 'friends': ['1', '2', '3']},\n",
    "    ...     {'screen_name': 'b', 'friends': ['2', '3', '4']},\n",
    "    ...     {'screen_name': 'c', 'friends': ['1', '2', '3']},\n",
    "    ...     ])\n",
    "    [('a', 'c', 3), ('a', 'b', 2), ('b', 'c', 2)]\n",
    "    \"\"\"\n",
    "    ###TODO\n",
    "    templist = []\n",
    "    temptuple = ()\n",
    "    for i in range(len(users)-1):\n",
    "        for j in range(i+1, len(users)):\n",
    "            temptuple = (users[i]['screen_name'], users[j]['screen_name'], len(set(users[i]['friends']).intersection(users[j]['friends'])))\n",
    "            templist.append(temptuple)\n",
    "    \n",
    "    \n",
    "    templist.sort(key = lambda x:x[1])\n",
    "    templist.sort(key = lambda x:x[0])\n",
    "    templist.sort(key=lambda x:x[2], reverse= True)\n",
    "    return templist\n",
    "        \n",
    "        "
   ]
  },
  {
   "cell_type": "code",
   "execution_count": 20,
   "metadata": {},
   "outputs": [
    {
     "data": {
      "text/plain": [
       "[('a', 'c', 3), ('a', 'b', 2), ('b', 'c', 2)]"
      ]
     },
     "execution_count": 20,
     "metadata": {},
     "output_type": "execute_result"
    }
   ],
   "source": [
    "friend_overlap([{'screen_name': 'a', 'friends': ['1', '2', '3']},{'screen_name': 'b', 'friends': ['2', '3', '4']},{'screen_name': 'c', 'friends': ['1', '2', '3']}])"
   ]
  },
  {
   "cell_type": "code",
   "execution_count": 21,
   "metadata": {},
   "outputs": [
    {
     "data": {
      "text/plain": [
       "[('GovGaryJohnson', 'DrJillStein', 239),\n",
       " ('HillaryClinton', 'GovGaryJohnson', 15),\n",
       " ('GovGaryJohnson', 'realDonaldTrump', 14),\n",
       " ('HillaryClinton', 'DrJillStein', 3),\n",
       " ('HillaryClinton', 'realDonaldTrump', 1),\n",
       " ('DrJillStein', 'realDonaldTrump', 0)]"
      ]
     },
     "execution_count": 21,
     "metadata": {},
     "output_type": "execute_result"
    }
   ],
   "source": [
    "friend_overlap(users)"
   ]
  },
  {
   "cell_type": "code",
   "execution_count": 22,
   "metadata": {
    "collapsed": true
   },
   "outputs": [],
   "source": [
    "\n",
    "def followed_by_hillary_and_donald(users, twitter):\n",
    "    \"\"\"\n",
    "    Find and return the screen_name of the one Twitter user followed by both Hillary\n",
    "    Clinton and Donald Trump. You will need to use the TwitterAPI to convert\n",
    "    the Twitter ID to a screen_name. See:\n",
    "    https://dev.twitter.com/rest/reference/get/users/lookup\n",
    "\n",
    "    Params:\n",
    "        users.....The list of user dicts\n",
    "        twitter...The Twitter API object\n",
    "    Returns:\n",
    "        A string containing the single Twitter screen_name of the user\n",
    "        that is followed by both Hillary Clinton and Donald Trump.\n",
    "    \"\"\"\n",
    "    ###TODO\n",
    "    for x in users:\n",
    "        if x['screen_name'] == \"HillaryClinton\":\n",
    "            hillaryfriends = x['friends']\n",
    "        if x['screen_name'] == \"realDonaldTrump\":\n",
    "            trumpfriends = x['friends']\n",
    "    thatguy = set(hillaryfriends).intersection(trumpfriends)\n",
    "    request = twitter.request('users/lookup', {'user_id': thatguy}) \n",
    "    thatguy = [ r for r in request]\n",
    "    return thatguy[0]['screen_name']"
   ]
  },
  {
   "cell_type": "code",
   "execution_count": 23,
   "metadata": {
    "scrolled": true
   },
   "outputs": [
    {
     "data": {
      "text/plain": [
       "'WhiteHouse'"
      ]
     },
     "execution_count": 23,
     "metadata": {},
     "output_type": "execute_result"
    }
   ],
   "source": [
    "followed_by_hillary_and_donald(users, twitter)"
   ]
  },
  {
   "cell_type": "code",
   "execution_count": 110,
   "metadata": {
    "collapsed": true
   },
   "outputs": [],
   "source": [
    "import warnings\n",
    "warnings.filterwarnings(\"ignore\")\n",
    "import networkx as nx\n",
    "import matplotlib.pyplot as plt  \n",
    "\n",
    "def create_graph(users, friend_counts):\n",
    "    \"\"\" Create a networkx undirected Graph, adding each candidate and friend\n",
    "        as a node.  Note: while all candidates should be added to the graph,\n",
    "        only add friends to the graph if they are followed by more than one\n",
    "        candidate. (This is to reduce clutter.)\n",
    "\n",
    "        Each candidate in the Graph will be represented by their screen_name,\n",
    "        while each friend will be represented by their user id.\n",
    "\n",
    "    Args:\n",
    "      users...........The list of user dicts.\n",
    "      friend_counts...The Counter dict mapping each friend to the number of candidates that follow them.\n",
    "    Returns:\n",
    "      A networkx Graph\n",
    "    \"\"\"\n",
    "    ###TODO\n",
    "    graph = nx.DiGraph()\n",
    "# Add a node\n",
    "    \n",
    "   \n",
    "        \n",
    "    for x in users:\n",
    "        graph.add_node(x['screen_name'])\n",
    "    \n",
    "        for y in x['friends']:\n",
    "        \n",
    "            if friend_counts[y] > 1:\n",
    "                graph.add_edge(y, x['screen_name'] )\n",
    "    %matplotlib inline\n",
    "    nx.draw(graph, with_labels=True)\n",
    "    \n"
   ]
  },
  {
   "cell_type": "code",
   "execution_count": 111,
   "metadata": {
    "scrolled": true
   },
   "outputs": [
    {
     "data": {
      "image/png": "[encoded data removed]",
      "text/plain": [
       "<matplotlib.figure.Figure at 0x2036ef76710>"
      ]
     },
     "metadata": {},
     "output_type": "display_data"
    }
   ],
   "source": [
    "create_graph(users,c)"
   ]
  },
  {
   "cell_type": "code",
   "execution_count": 84,
   "metadata": {},
   "outputs": [
    {
     "data": {
      "text/plain": [
       "<networkx.classes.digraph.DiGraph at 0x2036ebb6ef0>"
      ]
     },
     "execution_count": 84,
     "metadata": {},
     "output_type": "execute_result"
    }
   ],
   "source": [
    "graphy"
   ]
  },
  {
   "cell_type": "code",
   "execution_count": 108,
   "metadata": {
    "collapsed": true
   },
   "outputs": [],
   "source": [
    "def draw_network(graph, users, filename):\n",
    "    \"\"\"\n",
    "    Draw the network to a file. Only label the candidate nodes; the friend\n",
    "    nodes should have no labels (to reduce clutter).\n",
    "\n",
    "    Methods you'll need include networkx.draw_networkx, plt.figure, and plt.savefig.\n",
    "\n",
    "    Your figure does not have to look exactly the same as mine, but try to\n",
    "    make it look presentable.\n",
    "    \"\"\"\n",
    "    friend_counts = count_friends(users)\n",
    "    pos=nx.spring_layout(graph)\n",
    "    for x in users:\n",
    "        graph.add_node(x['screen_name'])\n",
    "    \n",
    "        for y in x['friends']:\n",
    "        \n",
    "            if friend_counts[y] > 1:\n",
    "                graph.add_edge(y, x['screen_name'] )\n",
    "    \n",
    "    labels = {}\n",
    "    labels['DrJillStein'] = 'DrJillStein'\n",
    "    labels['GovGaryJohnson'] = 'GovGaryJohnson'\n",
    "    labels['HillaryClinton'] = 'HillaryClinton'\n",
    "    labels['realDonaldTrump'] = 'realDonaldTrump'\n",
    "    \n",
    "    nx.draw_networkx(graph, with_labels = False)\n",
    "    nx.draw_networkx_labels(graph, pos, labels)\n",
    "   \n",
    "    \n",
    "    plt.figure(figsize=(50,40))\n",
    "    plt.axis('off')\n",
    "    plt.savefig(filename)\n",
    "    plt.show()\n"
   ]
  },
  {
   "cell_type": "code",
   "execution_count": 109,
   "metadata": {},
   "outputs": [
    {
     "ename": "KeyError",
     "evalue": "'DrJillStein'",
     "output_type": "error",
     "traceback": [
      "\u001b[1;31m---------------------------------------------------------------------------\u001b[0m",
      "\u001b[1;31mKeyError\u001b[0m                                  Traceback (most recent call last)",
      "\u001b[1;32m<ipython-input-109-6610fba0882d>\u001b[0m in \u001b[0;36m<module>\u001b[1;34m()\u001b[0m\n\u001b[0;32m      1\u001b[0m \u001b[0mgraph\u001b[0m \u001b[1;33m=\u001b[0m \u001b[0mnx\u001b[0m\u001b[1;33m.\u001b[0m\u001b[0mDiGraph\u001b[0m\u001b[1;33m(\u001b[0m\u001b[1;33m)\u001b[0m\u001b[1;33m\u001b[0m\u001b[0m\n\u001b[0;32m      2\u001b[0m \u001b[0mfilename\u001b[0m \u001b[1;33m=\u001b[0m \u001b[1;34m\"graph.png\"\u001b[0m\u001b[1;33m\u001b[0m\u001b[0m\n\u001b[1;32m----> 3\u001b[1;33m \u001b[0mdraw_network\u001b[0m\u001b[1;33m(\u001b[0m\u001b[0mgraph\u001b[0m\u001b[1;33m,\u001b[0m\u001b[0musers\u001b[0m\u001b[1;33m,\u001b[0m\u001b[0mfilename\u001b[0m\u001b[1;33m)\u001b[0m\u001b[1;33m\u001b[0m\u001b[0m\n\u001b[0m",
      "\u001b[1;32m<ipython-input-108-75d9e68edfe5>\u001b[0m in \u001b[0;36mdraw_network\u001b[1;34m(graph, users, filename)\u001b[0m\n\u001b[0;32m     26\u001b[0m \u001b[1;33m\u001b[0m\u001b[0m\n\u001b[0;32m     27\u001b[0m     \u001b[0mnx\u001b[0m\u001b[1;33m.\u001b[0m\u001b[0mdraw_networkx\u001b[0m\u001b[1;33m(\u001b[0m\u001b[0mgraph\u001b[0m\u001b[1;33m,\u001b[0m \u001b[0mwith_labels\u001b[0m \u001b[1;33m=\u001b[0m \u001b[1;32mFalse\u001b[0m\u001b[1;33m)\u001b[0m\u001b[1;33m\u001b[0m\u001b[0m\n\u001b[1;32m---> 28\u001b[1;33m     \u001b[0mnx\u001b[0m\u001b[1;33m.\u001b[0m\u001b[0mdraw_networkx_labels\u001b[0m\u001b[1;33m(\u001b[0m\u001b[0mgraph\u001b[0m\u001b[1;33m,\u001b[0m \u001b[0mpos\u001b[0m\u001b[1;33m,\u001b[0m \u001b[0mlabels\u001b[0m\u001b[1;33m)\u001b[0m\u001b[1;33m\u001b[0m\u001b[0m\n\u001b[0m\u001b[0;32m     29\u001b[0m \u001b[1;33m\u001b[0m\u001b[0m\n\u001b[0;32m     30\u001b[0m \u001b[1;33m\u001b[0m\u001b[0m\n",
      "\u001b[1;32m~\\Anaconda3\\lib\\site-packages\\networkx\\drawing\\nx_pylab.py\u001b[0m in \u001b[0;36mdraw_networkx_labels\u001b[1;34m(G, pos, labels, font_size, font_color, font_family, font_weight, alpha, bbox, ax, **kwds)\u001b[0m\n\u001b[0;32m    720\u001b[0m     \u001b[0mtext_items\u001b[0m \u001b[1;33m=\u001b[0m \u001b[1;33m{\u001b[0m\u001b[1;33m}\u001b[0m  \u001b[1;31m# there is no text collection so we'll fake one\u001b[0m\u001b[1;33m\u001b[0m\u001b[0m\n\u001b[0;32m    721\u001b[0m     \u001b[1;32mfor\u001b[0m \u001b[0mn\u001b[0m\u001b[1;33m,\u001b[0m \u001b[0mlabel\u001b[0m \u001b[1;32min\u001b[0m \u001b[0mlabels\u001b[0m\u001b[1;33m.\u001b[0m\u001b[0mitems\u001b[0m\u001b[1;33m(\u001b[0m\u001b[1;33m)\u001b[0m\u001b[1;33m:\u001b[0m\u001b[1;33m\u001b[0m\u001b[0m\n\u001b[1;32m--> 722\u001b[1;33m         \u001b[1;33m(\u001b[0m\u001b[0mx\u001b[0m\u001b[1;33m,\u001b[0m \u001b[0my\u001b[0m\u001b[1;33m)\u001b[0m \u001b[1;33m=\u001b[0m \u001b[0mpos\u001b[0m\u001b[1;33m[\u001b[0m\u001b[0mn\u001b[0m\u001b[1;33m]\u001b[0m\u001b[1;33m\u001b[0m\u001b[0m\n\u001b[0m\u001b[0;32m    723\u001b[0m         \u001b[1;32mif\u001b[0m \u001b[1;32mnot\u001b[0m \u001b[0mis_string_like\u001b[0m\u001b[1;33m(\u001b[0m\u001b[0mlabel\u001b[0m\u001b[1;33m)\u001b[0m\u001b[1;33m:\u001b[0m\u001b[1;33m\u001b[0m\u001b[0m\n\u001b[0;32m    724\u001b[0m             \u001b[0mlabel\u001b[0m \u001b[1;33m=\u001b[0m \u001b[0mstr\u001b[0m\u001b[1;33m(\u001b[0m\u001b[0mlabel\u001b[0m\u001b[1;33m)\u001b[0m  \u001b[1;31m# this will cause \"1\" and 1 to be labeled the same\u001b[0m\u001b[1;33m\u001b[0m\u001b[0m\n",
      "\u001b[1;31mKeyError\u001b[0m: 'DrJillStein'"
     ]
    },
    {
     "data": {
      "image/png": "[encoded data removed]",
      "text/plain": [
       "<matplotlib.figure.Figure at 0x2036e3b7240>"
      ]
     },
     "metadata": {},
     "output_type": "display_data"
    }
   ],
   "source": [
    "graph = nx.DiGraph()\n",
    "filename = \"graph.png\"\n",
    "draw_network(graph,users,filename)"
   ]
  },
  {
   "cell_type": "code",
   "execution_count": 115,
   "metadata": {},
   "outputs": [
    {
     "ename": "SyntaxError",
     "evalue": "invalid syntax (<ipython-input-115-52cf10c01050>, line 16)",
     "output_type": "error",
     "traceback": [
      "\u001b[1;36m  File \u001b[1;32m\"<ipython-input-115-52cf10c01050>\"\u001b[1;36m, line \u001b[1;32m16\u001b[0m\n\u001b[1;33m    print('Friend Overlap:\\n%s' % str(friend_overlap(users)))illary_and_donald(users, twitter))\u001b[0m\n\u001b[1;37m                                                                             ^\u001b[0m\n\u001b[1;31mSyntaxError\u001b[0m\u001b[1;31m:\u001b[0m invalid syntax\n"
     ]
    }
   ],
   "source": [
    "def main():\n",
    "    \"\"\" Main method. You should not modify this. \"\"\"\n",
    "    twitter = get_twitter()\n",
    "    screen_names = read_screen_names('candidates.txt')\n",
    "    print('Established Twitter connection.')\n",
    "    print('Read screen names: %s' % screen_names)\n",
    "    users = sorted(get_users(twitter, screen_names), key=lambda x: x['screen_name'])\n",
    "    print('found %d users with screen_names %s' %\n",
    "          (len(users), str([u['screen_name'] for u in users])))\n",
    "    add_all_friends(twitter, users)\n",
    "    print('Friends per candidate:')\n",
    "    print_num_friends(users)\n",
    "    friend_counts = count_friends(users)\n",
    "    print('Most common friends:\\n%s' % str(friend_counts.most_common()))\n",
    "    print('User followed by Hillary and Donald: %s' % followed_by_hmon(5))\n",
    "    print('Friend Overlap:\\n%s' % str(friend_overlap(users)))illary_and_donald(users, twitter))\n",
    "\n",
    "    graph = create_graph(users, friend_counts)\n",
    "    print('graph has %s nodes and %s edges' % (len(graph.nodes()), len(graph.edges())))\n",
    "    #draw_network(graph, users, 'network.png')\n",
    "    #print('network drawn to network.png')\n",
    "\n",
    "\n",
    "if __name__ == '__main__':\n",
    "    main()\n"
   ]
  },
  {
   "cell_type": "code",
   "execution_count": 116,
   "metadata": {
    "collapsed": true
   },
   "outputs": [],
   "source": [
    "# Get this person's timeline\n",
    "timeline = [tweet for tweet in twitter.request('statuses/user_timeline',\n",
    "                                                {'screen_name': 'realDonaldTrump',\n",
    "                                                 'count': 200})]"
   ]
  },
  {
   "cell_type": "code",
   "execution_count": 117,
   "metadata": {},
   "outputs": [
    {
     "name": "stdout",
     "output_type": "stream",
     "text": [
      "found 1624 unique terms in 200 tweets\n"
     ]
    },
    {
     "data": {
      "text/plain": [
       "[('the', 189),\n",
       " ('to', 108),\n",
       " ('of', 88),\n",
       " ('and', 78),\n",
       " ('a', 60),\n",
       " ('in', 49),\n",
       " ('is', 48),\n",
       " ('for', 48),\n",
       " ('our', 45),\n",
       " ('are', 42)]"
      ]
     },
     "execution_count": 117,
     "metadata": {},
     "output_type": "execute_result"
    }
   ],
   "source": [
    "# Count words\n",
    "counts = Counter()\n",
    "for tweet in timeline:\n",
    "    counts.update(tweet['text'].lower().split())  # to lower case; split on whitespace.\n",
    "print('found %d unique terms in %d tweets' % (len(counts), len(timeline)))\n",
    "counts.most_common(10)"
   ]
  },
  {
   "cell_type": "code",
   "execution_count": 118,
   "metadata": {
    "collapsed": true
   },
   "outputs": [],
   "source": [
    "# Get this person's timeline\n",
    "timeline = [tweet for tweet in twitter.request('statuses/user_timeline',\n",
    "                                                {'screen_name': 'GoVGaryJohnson',\n",
    "                                                 'count': 200})]"
   ]
  },
  {
   "cell_type": "code",
   "execution_count": 119,
   "metadata": {},
   "outputs": [
    {
     "name": "stdout",
     "output_type": "stream",
     "text": [
      "found 1169 unique terms in 199 tweets\n"
     ]
    },
    {
     "data": {
      "text/plain": [
       "[('in', 65),\n",
       " ('the', 63),\n",
       " ('rt', 53),\n",
       " ('#johnsonweld', 53),\n",
       " ('to', 50),\n",
       " ('for', 46),\n",
       " ('#youin?', 33),\n",
       " ('join', 30),\n",
       " ('a', 29),\n",
       " ('details-', 28)]"
      ]
     },
     "execution_count": 119,
     "metadata": {},
     "output_type": "execute_result"
    }
   ],
   "source": [
    "# Count words\n",
    "counts = Counter()\n",
    "for tweet in timeline:\n",
    "    counts.update(tweet['text'].lower().split())  # to lower case; split on whitespace.\n",
    "print('found %d unique terms in %d tweets' % (len(counts), len(timeline)))\n",
    "counts.most_common(10)"
   ]
  },
  {
   "cell_type": "code",
   "execution_count": null,
   "metadata": {
    "collapsed": true
   },
   "outputs": [],
   "source": []
  },
  {
   "cell_type": "code",
   "execution_count": null,
   "metadata": {
    "collapsed": true
   },
   "outputs": [],
   "source": []
  }
 ],
 "metadata": {
  "kernelspec": {
   "display_name": "Python 3",
   "language": "python",
   "name": "python3"
  },
  "language_info": {
   "codemirror_mode": {
    "name": "ipython",
    "version": 3
   },
   "file_extension": ".py",
   "mimetype": "text/x-python",
   "name": "python",
   "nbconvert_exporter": "python",
   "pygments_lexer": "ipython3",
   "version": "3.6.3"
  }
 },
 "nbformat": 4,
 "nbformat_minor": 2
}
